{
 "cells": [
  {
   "cell_type": "code",
   "execution_count": 1,
   "id": "fa20c588",
   "metadata": {},
   "outputs": [],
   "source": [
    "import pandas as pd\n",
    "import numpy as np"
   ]
  },
  {
   "cell_type": "code",
   "execution_count": 2,
   "id": "def2c689",
   "metadata": {},
   "outputs": [
    {
     "data": {
      "text/html": [
       "<div>\n",
       "<style scoped>\n",
       "    .dataframe tbody tr th:only-of-type {\n",
       "        vertical-align: middle;\n",
       "    }\n",
       "\n",
       "    .dataframe tbody tr th {\n",
       "        vertical-align: top;\n",
       "    }\n",
       "\n",
       "    .dataframe thead th {\n",
       "        text-align: right;\n",
       "    }\n",
       "</style>\n",
       "<table border=\"1\" class=\"dataframe\">\n",
       "  <thead>\n",
       "    <tr style=\"text-align: right;\">\n",
       "      <th></th>\n",
       "      <th>sr_no</th>\n",
       "      <th>old_emp_id</th>\n",
       "      <th>name</th>\n",
       "      <th>address</th>\n",
       "      <th>mobile</th>\n",
       "      <th>degree1</th>\n",
       "      <th>specialisation1</th>\n",
       "      <th>college1</th>\n",
       "      <th>degree2</th>\n",
       "      <th>specialisation2</th>\n",
       "      <th>college2</th>\n",
       "      <th>degree3</th>\n",
       "      <th>specialisation3</th>\n",
       "      <th>college3</th>\n",
       "      <th>emp_status</th>\n",
       "    </tr>\n",
       "  </thead>\n",
       "  <tbody>\n",
       "    <tr>\n",
       "      <th>0</th>\n",
       "      <td>1</td>\n",
       "      <td>24</td>\n",
       "      <td>Amit</td>\n",
       "      <td>ABC Road</td>\n",
       "      <td>356363474</td>\n",
       "      <td>Computer Science</td>\n",
       "      <td>Robotics</td>\n",
       "      <td>IIT Delhi</td>\n",
       "      <td>MSC</td>\n",
       "      <td>ML</td>\n",
       "      <td>MIT</td>\n",
       "      <td>PHD</td>\n",
       "      <td>AI</td>\n",
       "      <td>Harvard</td>\n",
       "      <td>full-time</td>\n",
       "    </tr>\n",
       "    <tr>\n",
       "      <th>1</th>\n",
       "      <td>2</td>\n",
       "      <td>34</td>\n",
       "      <td>Samit</td>\n",
       "      <td>Xyz Road</td>\n",
       "      <td>367474748</td>\n",
       "      <td>Bachelor of Arts</td>\n",
       "      <td>Economics</td>\n",
       "      <td>Delih Univ</td>\n",
       "      <td>Masters of Eco</td>\n",
       "      <td>Internatioal Relation</td>\n",
       "      <td>Delhi Univ</td>\n",
       "      <td>PHD</td>\n",
       "      <td>Foreign Trade</td>\n",
       "      <td>Delhi Univ</td>\n",
       "      <td>part-time</td>\n",
       "    </tr>\n",
       "    <tr>\n",
       "      <th>2</th>\n",
       "      <td>3</td>\n",
       "      <td>56</td>\n",
       "      <td>Richard</td>\n",
       "      <td>PTC Street</td>\n",
       "      <td>363637677</td>\n",
       "      <td>Bsc</td>\n",
       "      <td>Biology</td>\n",
       "      <td>Mumbai Univ</td>\n",
       "      <td>Masters of Science</td>\n",
       "      <td>Microbiology</td>\n",
       "      <td>Mumbai Univ</td>\n",
       "      <td>PHD</td>\n",
       "      <td>Communicable disease</td>\n",
       "      <td>Mumbai Univ</td>\n",
       "      <td>part-time</td>\n",
       "    </tr>\n",
       "  </tbody>\n",
       "</table>\n",
       "</div>"
      ],
      "text/plain": [
       "   sr_no  old_emp_id     name     address    mobile            degree1  \\\n",
       "0      1          24     Amit    ABC Road  356363474  Computer Science   \n",
       "1      2          34   Samit     Xyz Road  367474748  Bachelor of Arts   \n",
       "2      3          56  Richard  PTC Street  363637677              Bsc    \n",
       "\n",
       "  specialisation1     college1              degree2        specialisation2  \\\n",
       "0        Robotics    IIT Delhi                  MSC                     ML   \n",
       "1       Economics   Delih Univ       Masters of Eco  Internatioal Relation   \n",
       "2         Biology  Mumbai Univ  Masters of Science            Microbiology   \n",
       "\n",
       "      college2 degree3       specialisation3     college3 emp_status  \n",
       "0          MIT     PHD                    AI      Harvard  full-time  \n",
       "1   Delhi Univ     PHD         Foreign Trade   Delhi Univ  part-time  \n",
       "2  Mumbai Univ     PHD  Communicable disease  Mumbai Univ  part-time  "
      ]
     },
     "execution_count": 2,
     "metadata": {},
     "output_type": "execute_result"
    }
   ],
   "source": [
    "df= pd.read_excel('data.xlsx')\n",
    "df"
   ]
  },
  {
   "cell_type": "code",
   "execution_count": null,
   "id": "275d2aa9",
   "metadata": {},
   "outputs": [],
   "source": [
    "for index,row in df.iterrows():\n",
    "    \n",
    "    #further processing on row of data to push it to a web-application\n",
    "    # how to sub-iterate on degree,specialisation,college as rows for each sr_no \n"
   ]
  }
 ],
 "metadata": {
  "kernelspec": {
   "display_name": "Python 3 (ipykernel)",
   "language": "python",
   "name": "python3"
  },
  "language_info": {
   "codemirror_mode": {
    "name": "ipython",
    "version": 3
   },
   "file_extension": ".py",
   "mimetype": "text/x-python",
   "name": "python",
   "nbconvert_exporter": "python",
   "pygments_lexer": "ipython3",
   "version": "3.10.10"
  }
 },
 "nbformat": 4,
 "nbformat_minor": 5
}
